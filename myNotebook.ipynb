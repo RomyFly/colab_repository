{
  "cells": [
    {
      "cell_type": "markdown",
      "source": [
        "The power of x"
      ],
      "metadata": {
        "id": "5BG95qenqzWf"
      },
      "id": "5BG95qenqzWf"
    },
    {
      "cell_type": "code",
      "execution_count": 4,
      "id": "13184004-6fa7-45c9-909f-4038e01b703c",
      "metadata": {
        "id": "13184004-6fa7-45c9-909f-4038e01b703c"
      },
      "outputs": [],
      "source": [
        "x=2\n"
      ]
    },
    {
      "cell_type": "code",
      "source": [
        "print(x)"
      ],
      "metadata": {
        "id": "ix34sYuNrCvw",
        "outputId": "c51f5370-49f4-4f4b-c11a-e406816c6ee9",
        "colab": {
          "base_uri": "https://localhost:8080/"
        }
      },
      "id": "ix34sYuNrCvw",
      "execution_count": 5,
      "outputs": [
        {
          "output_type": "stream",
          "name": "stdout",
          "text": [
            "2\n"
          ]
        }
      ]
    }
  ],
  "metadata": {
    "kernelspec": {
      "display_name": "Python 3 (ipykernel)",
      "language": "python",
      "name": "python3"
    },
    "language_info": {
      "codemirror_mode": {
        "name": "ipython",
        "version": 3
      },
      "file_extension": ".py",
      "mimetype": "text/x-python",
      "name": "python",
      "nbconvert_exporter": "python",
      "pygments_lexer": "ipython3",
      "version": "3.11.11"
    },
    "colab": {
      "provenance": []
    }
  },
  "nbformat": 4,
  "nbformat_minor": 5
}