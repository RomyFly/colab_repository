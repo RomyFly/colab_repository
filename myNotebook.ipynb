{
  "cells": [
    {
      "cell_type": "markdown",
      "source": [
        "# PRACTICE ON COLAB"
      ],
      "metadata": {
        "id": "p8qsVMkQshHP"
      },
      "id": "p8qsVMkQshHP"
    },
    {
      "cell_type": "markdown",
      "source": [
        "## Variable Creation"
      ],
      "metadata": {
        "id": "eh9aVrQMuPyb"
      },
      "id": "eh9aVrQMuPyb"
    },
    {
      "cell_type": "markdown",
      "source": [
        "With python we can attribute a value to a variable using the sign equal '='"
      ],
      "metadata": {
        "id": "IJbHhPo25PZU"
      },
      "id": "IJbHhPo25PZU"
    },
    {
      "cell_type": "code",
      "execution_count": 20,
      "id": "13184004-6fa7-45c9-909f-4038e01b703c",
      "metadata": {
        "id": "13184004-6fa7-45c9-909f-4038e01b703c"
      },
      "outputs": [],
      "source": [
        "x=2\n"
      ]
    },
    {
      "cell_type": "markdown",
      "source": [
        "To display the value the required function is print(variable_name)"
      ],
      "metadata": {
        "id": "rkbh1MBH5dOn"
      },
      "id": "rkbh1MBH5dOn"
    },
    {
      "cell_type": "code",
      "source": [
        "print(x)"
      ],
      "metadata": {
        "colab": {
          "base_uri": "https://localhost:8080/"
        },
        "id": "ix34sYuNrCvw",
        "outputId": "cf0ec027-c77c-4bca-f8c7-991b5b8b3f07"
      },
      "id": "ix34sYuNrCvw",
      "execution_count": 15,
      "outputs": [
        {
          "output_type": "stream",
          "name": "stdout",
          "text": [
            "2\n"
          ]
        }
      ]
    },
    {
      "cell_type": "markdown",
      "source": [
        "##Practice 1"
      ],
      "metadata": {
        "id": "xQZ2HUTds2iP"
      },
      "id": "xQZ2HUTds2iP"
    },
    {
      "cell_type": "markdown",
      "source": [
        "We will create numerous variables. the  variable x with a value of 859, a variable y with a value of 36, and a variable z storing the addition of x and y."
      ],
      "metadata": {
        "id": "IKztUGDTurQm"
      },
      "id": "IKztUGDTurQm"
    },
    {
      "cell_type": "code",
      "source": [
        "x=859\n",
        "y=36\n",
        "z=x+y"
      ],
      "metadata": {
        "id": "qdOudSOOsruz"
      },
      "id": "qdOudSOOsruz",
      "execution_count": 16,
      "outputs": []
    },
    {
      "cell_type": "code",
      "source": [],
      "metadata": {
        "id": "fP7eMF0s6n6h"
      },
      "id": "fP7eMF0s6n6h",
      "execution_count": null,
      "outputs": []
    },
    {
      "cell_type": "code",
      "source": [
        "print(z)"
      ],
      "metadata": {
        "colab": {
          "base_uri": "https://localhost:8080/"
        },
        "id": "_3aiocRotFdF",
        "outputId": "a044a920-98ec-4e96-b501-91e12cd86dc5"
      },
      "id": "_3aiocRotFdF",
      "execution_count": 17,
      "outputs": [
        {
          "output_type": "stream",
          "name": "stdout",
          "text": [
            "895\n"
          ]
        }
      ]
    },
    {
      "cell_type": "markdown",
      "source": [
        "##Practice 2"
      ],
      "metadata": {
        "id": "OYdGpCZo6axX"
      },
      "id": "OYdGpCZo6axX"
    },
    {
      "cell_type": "markdown",
      "source": [
        "Here we add a new line to the code to overwrite the value of y. Its new value should be 159.\n",
        "What's the outcome of printing the variable z?"
      ],
      "metadata": {
        "id": "8Dp2tydutPHO"
      },
      "id": "8Dp2tydutPHO"
    },
    {
      "cell_type": "code",
      "source": [
        "y=159"
      ],
      "metadata": {
        "id": "XhYYlPPltU1L"
      },
      "id": "XhYYlPPltU1L",
      "execution_count": 18,
      "outputs": []
    },
    {
      "cell_type": "code",
      "source": [
        "print(z)"
      ],
      "metadata": {
        "colab": {
          "base_uri": "https://localhost:8080/"
        },
        "id": "1kzF6tr-tc1X",
        "outputId": "900eea43-f470-4722-ef02-2ab7d64e6cb0"
      },
      "id": "1kzF6tr-tc1X",
      "execution_count": 19,
      "outputs": [
        {
          "output_type": "stream",
          "name": "stdout",
          "text": [
            "895\n"
          ]
        }
      ]
    },
    {
      "cell_type": "markdown",
      "source": [
        "*Although the value of y changed the z's value still the same*\n"
      ],
      "metadata": {
        "id": "I9XHlSHg6u_X"
      },
      "id": "I9XHlSHg6u_X"
    },
    {
      "cell_type": "code",
      "source": [],
      "metadata": {
        "id": "qQV4LbEt6upl"
      },
      "id": "qQV4LbEt6upl",
      "execution_count": null,
      "outputs": []
    },
    {
      "cell_type": "markdown",
      "source": [
        "##Variable types"
      ],
      "metadata": {
        "id": "ahTkcFtXtwob"
      },
      "id": "ahTkcFtXtwob"
    },
    {
      "cell_type": "markdown",
      "source": [
        "Bellow we create the variables shown in the screenshot below, and we will later look for later the type that was automatically assigned by python.![img00.png](data:image/png;base64,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)"
      ],
      "metadata": {
        "id": "yXKfxLrouzFB"
      },
      "id": "yXKfxLrouzFB"
    },
    {
      "cell_type": "code",
      "source": [
        "my_int=5\n",
        "my_float=7.9\n",
        "my_str='Hi There'\n",
        "my_bool=True"
      ],
      "metadata": {
        "id": "G7JppdGIuyuO"
      },
      "id": "G7JppdGIuyuO",
      "execution_count": 21,
      "outputs": []
    },
    {
      "cell_type": "markdown",
      "source": [
        "Determine the type using the function type with variable name as argument"
      ],
      "metadata": {
        "id": "1QmQph2uy8kX"
      },
      "id": "1QmQph2uy8kX"
    },
    {
      "cell_type": "code",
      "source": [
        "type(my_int)"
      ],
      "metadata": {
        "colab": {
          "base_uri": "https://localhost:8080/"
        },
        "id": "IttGgzp9uyer",
        "outputId": "8cc6a663-771f-42b0-b0b0-ec6ad2a71155"
      },
      "id": "IttGgzp9uyer",
      "execution_count": 23,
      "outputs": [
        {
          "output_type": "execute_result",
          "data": {
            "text/plain": [
              "bool"
            ]
          },
          "metadata": {},
          "execution_count": 23
        }
      ]
    },
    {
      "cell_type": "code",
      "source": [
        "type(my_float)\n"
      ],
      "metadata": {
        "colab": {
          "base_uri": "https://localhost:8080/"
        },
        "id": "HZ8gIlAx2BiP",
        "outputId": "6dc8efc2-3635-4347-a22a-71fe8573367b"
      },
      "id": "HZ8gIlAx2BiP",
      "execution_count": 24,
      "outputs": [
        {
          "output_type": "execute_result",
          "data": {
            "text/plain": [
              "float"
            ]
          },
          "metadata": {},
          "execution_count": 24
        }
      ]
    },
    {
      "cell_type": "code",
      "source": [
        "type(my_str)"
      ],
      "metadata": {
        "colab": {
          "base_uri": "https://localhost:8080/"
        },
        "id": "dGi0d9Zy2DKO",
        "outputId": "e50cc0df-c4af-44d3-9ffb-408a4d561243"
      },
      "id": "dGi0d9Zy2DKO",
      "execution_count": 25,
      "outputs": [
        {
          "output_type": "execute_result",
          "data": {
            "text/plain": [
              "str"
            ]
          },
          "metadata": {},
          "execution_count": 25
        }
      ]
    },
    {
      "cell_type": "code",
      "source": [
        "type(my_bool)"
      ],
      "metadata": {
        "colab": {
          "base_uri": "https://localhost:8080/"
        },
        "id": "Lk29INs_2E1_",
        "outputId": "1281f475-5bf4-41db-a2cc-a03996abaf3a"
      },
      "id": "Lk29INs_2E1_",
      "execution_count": 26,
      "outputs": [
        {
          "output_type": "execute_result",
          "data": {
            "text/plain": [
              "bool"
            ]
          },
          "metadata": {},
          "execution_count": 26
        }
      ]
    },
    {
      "cell_type": "markdown",
      "source": [
        "## Numeric variables"
      ],
      "metadata": {
        "id": "O1tGKwD_2STI"
      },
      "id": "O1tGKwD_2STI"
    },
    {
      "cell_type": "markdown",
      "source": [
        "Integer type and Float type that are both numeric types can interact with other types using operators (like +).\n",
        "in the following example we will try summing the integer and floating variables we justcreated, and we will print the type of the result.![img01.png](data:image/png;base64,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)"
      ],
      "metadata": {
        "id": "sQG-8RjS2Yyq"
      },
      "id": "sQG-8RjS2Yyq"
    },
    {
      "cell_type": "code",
      "source": [
        "a=my_int+my_float\n",
        "print(a)\n",
        "print(type(a))"
      ],
      "metadata": {
        "colab": {
          "base_uri": "https://localhost:8080/"
        },
        "id": "Dzt1eEoL8kzf",
        "outputId": "39568e80-a84a-4dae-8966-9d18adb37a62"
      },
      "id": "Dzt1eEoL8kzf",
      "execution_count": 27,
      "outputs": [
        {
          "output_type": "stream",
          "name": "stdout",
          "text": [
            "12.9\n",
            "<class 'float'>\n"
          ]
        }
      ]
    },
    {
      "cell_type": "markdown",
      "source": [
        "We can notice that the type of a is a float"
      ],
      "metadata": {
        "id": "FPnXxRCR8rQL"
      },
      "id": "FPnXxRCR8rQL"
    },
    {
      "cell_type": "markdown",
      "source": [
        "However some types cannot interact, depending on the operator used. Try summing an integer value with a string (text), and print its outcome in the same line of code will display an error message\n",
        "\n"
      ],
      "metadata": {
        "id": "mFpvt6eX9BC-"
      },
      "id": "mFpvt6eX9BC-"
    },
    {
      "cell_type": "code",
      "source": [
        "b=my_int+ my_str\n",
        "print(b)"
      ],
      "metadata": {
        "colab": {
          "base_uri": "https://localhost:8080/",
          "height": 158
        },
        "id": "CUUJBpqM9ruZ",
        "outputId": "e1656554-0412-4728-e044-6f8e2c5b5136"
      },
      "id": "CUUJBpqM9ruZ",
      "execution_count": 30,
      "outputs": [
        {
          "output_type": "error",
          "ename": "TypeError",
          "evalue": "unsupported operand type(s) for +: 'int' and 'str'",
          "traceback": [
            "\u001b[0;31m---------------------------------------------------------------------------\u001b[0m",
            "\u001b[0;31mTypeError\u001b[0m                                 Traceback (most recent call last)",
            "\u001b[0;32m<ipython-input-30-0659c7885b65>\u001b[0m in \u001b[0;36m<cell line: 0>\u001b[0;34m()\u001b[0m\n\u001b[0;32m----> 1\u001b[0;31m \u001b[0mb\u001b[0m\u001b[0;34m=\u001b[0m\u001b[0mmy_int\u001b[0m\u001b[0;34m+\u001b[0m \u001b[0mmy_str\u001b[0m\u001b[0;34m\u001b[0m\u001b[0;34m\u001b[0m\u001b[0m\n\u001b[0m\u001b[1;32m      2\u001b[0m \u001b[0mprint\u001b[0m\u001b[0;34m(\u001b[0m\u001b[0mb\u001b[0m\u001b[0;34m)\u001b[0m\u001b[0;34m\u001b[0m\u001b[0;34m\u001b[0m\u001b[0m\n",
            "\u001b[0;31mTypeError\u001b[0m: unsupported operand type(s) for +: 'int' and 'str'"
          ]
        }
      ]
    }
  ],
  "metadata": {
    "kernelspec": {
      "display_name": "Python 3 (ipykernel)",
      "language": "python",
      "name": "python3"
    },
    "language_info": {
      "codemirror_mode": {
        "name": "ipython",
        "version": 3
      },
      "file_extension": ".py",
      "mimetype": "text/x-python",
      "name": "python",
      "nbconvert_exporter": "python",
      "pygments_lexer": "ipython3",
      "version": "3.11.11"
    },
    "colab": {
      "provenance": []
    }
  },
  "nbformat": 4,
  "nbformat_minor": 5
}